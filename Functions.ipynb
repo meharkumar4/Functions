{
  "nbformat": 4,
  "nbformat_minor": 0,
  "metadata": {
    "colab": {
      "provenance": []
    },
    "kernelspec": {
      "name": "python3",
      "display_name": "Python 3"
    },
    "language_info": {
      "name": "python"
    }
  },
  "cells": [
    {
      "cell_type": "code",
      "execution_count": null,
      "metadata": {
        "id": "Sq-Fxw-dmWg9"
      },
      "outputs": [],
      "source": []
    },
    {
      "cell_type": "markdown",
      "source": [
        "# Functions"
      ],
      "metadata": {
        "id": "7j0zx_d_mn9O"
      }
    },
    {
      "cell_type": "code",
      "source": [],
      "metadata": {
        "id": "uKYqoxKWCATS"
      },
      "execution_count": null,
      "outputs": []
    },
    {
      "cell_type": "markdown",
      "source": [
        "1. What is the difference between a function and a method in Python?\n",
        "- A function is a reusable block of code defined using `def`, callable independently. A method is a function associated with an object, called on an instance using `object.method()`. Methods often modify or access object attributes, unlike standalone functions.\n",
        "\n",
        "2. Explain the concept of function arguments and parameters in Python.\n",
        "- Parameters are variables in a function definition, while arguments are actual values passed to the function during a call. Python supports positional, keyword, default, and variable-length arguments.\n",
        "\n",
        "3. What are the different ways to define and call a function in Python?\n",
        "- In Python, functions can be defined and called in multiple ways:\n",
        "\n",
        "Defining a Function:\n",
        "* Standard Function\n",
        "* Function with Default Arguments\n",
        "* Function with *args\n",
        "* Function with **kwargs\n",
        "* Lambda Function\n",
        "* Nested Function\n",
        "* Function Inside a Class\n",
        "\n",
        "Calling a Function:\n",
        "* Positional Arguments\n",
        "* Keyword Arguments\n",
        "* Calling with *args\n",
        "* Calling with **kwargs\n",
        "* Calling a Lambda Function\n",
        "* Calling a Method\n",
        "\n",
        "4. What is the purpose of the `return` statement in a Python function?\n",
        "- The `return` statement in Python exits a function and sends back a value to the caller. It allows functions to output results for further use. Without `return`, a function returns `None` by default. Multiple values can be returned as tuples.\n",
        "\n",
        "5. What are iterators in Python and how do they differ from iterables?\n",
        "- An **iterable** is an object (like lists, tuples) that can be looped over. An **iterator** is an object with `__iter__()` and `__next__()` methods, generating values lazily. Iterators retain state, while iterables require conversion using `iter()`.\n",
        "\n",
        "6.  Explain the concept of generators in Python and how they are defined.\n",
        "- Concept of Generators in Python\n",
        "\n",
        " Generators are special functions in Python that yield values lazily, meaning they generate data on demand instead of storing everything in memory. They are useful for handling large datasets efficiently.\n",
        "\n",
        "\n",
        " Defining a Generator\n",
        "\n",
        " Generators are defined using the yield keyword instead of return. When a function contains yield, it becomes a generator, returning an iterator.\n",
        "\n",
        " Key Features of Generators\n",
        "\n",
        "* Memory Efficient: They don’t store all values in memory, generating them one at a time.\n",
        "\n",
        "* State Retention: The function pauses at yield and resumes from there on the next call.\n",
        "\n",
        "* Iterated Using next() or for Loop.\n",
        "\n",
        "* Infinite Sequences: Generators can be used to generate infinite sequences without memory overflow.\n",
        "\n",
        "7. What are the advantages of using generators over regular functions?\n",
        "- Advantages of Using Generators Over Regular Functions\n",
        "* Memory Efficiency\n",
        "* Lazy Evaluation\n",
        "* Improved Performance\n",
        "* Simplifies Code for Iteration\n",
        "* Supports Infinite Sequences\n",
        "* Automatic State Retention\n",
        "* Pipelining and Composability\n",
        "\n",
        "\n",
        "8. What is a lambda function in Python and when is it typically used?\n",
        "- A lambda function is an anonymous, single-expression function defined using the lambda keyword. It is useful for short, throwaway functions that don’t require a full def function definition.\n",
        "\n",
        "* Short, Simple Functions\n",
        "* Used in Higher-Order Functions\n",
        "* Sorting with Custom Keys\n",
        "* Conditional Lambda\n",
        "\n",
        "9. Explain the purpose and usage of the `map()` function in Python.\n",
        "- Purpose of map() Function in Python\n",
        "\n",
        "The map() function is used to apply a given function to all items in an iterable (like lists, tuples) and return a map object (an iterator). It helps in writing concise, efficient, and readable code by eliminating the need for explicit loops.\n",
        "\n",
        "Usage Examples:\n",
        "* Squaring Numbers in a List\n",
        "* Converting Strings to Uppercase\n",
        "* Applying Multiple Iterables\n",
        "\n",
        "10. What is the difference between `map()`, `reduce()`, and `filter()` functions in Python?\n",
        "- map() – Applies a Function to Each Element\n",
        "\n",
        "Takes a function and an iterable, applies the function to every element, and returns a new iterable (map object).\n",
        "* filter() – Filters Elements Based on a Condition\n",
        "\n",
        "Takes a function that returns True or False and filters elements that satisfy the condition.\n",
        "* reduce() – Reduces an Iterable to a Single Value\n",
        "\n",
        "From functools module, it applies a function cumulatively to elements, reducing them to a single value.\n",
        "\n",
        "Key Differences:\n",
        "\n",
        "* map() transforms all elements.\n",
        "* filter() selects elements based on a condition.\n",
        "* reduce() combines elements into a single result.\n",
        "\n",
        "11. Using pen & Paper write the internal mechanism for sum operation using  reduce function on this given\n",
        "list:[47,11,42,13];\n",
        "- /content/IMG_20250304_211338.jpg\n"
      ],
      "metadata": {
        "id": "5Xffb8mJms-i"
      }
    },
    {
      "cell_type": "markdown",
      "source": [
        "# Practical Questions"
      ],
      "metadata": {
        "id": "S0AqkGPN2SqU"
      }
    },
    {
      "cell_type": "code",
      "source": [
        "#1.  Write a Python function that takes a list of numbers as input and returns the sum of all even numbers in the list.\n",
        "\n",
        "def sum_of_evens(numbers):\n",
        "    return sum(filter(lambda x: x % 2 == 0, numbers))\n",
        "\n",
        "# Example usage\n",
        "nums = [1, 2, 3, 4, 5, 6, 7, 8]\n",
        "result = sum_of_evens(nums)\n",
        "print(result)  # Output: 20"
      ],
      "metadata": {
        "colab": {
          "base_uri": "https://localhost:8080/"
        },
        "id": "Rbrz-AyY2XT0",
        "outputId": "a4d4b5ce-de5a-42fe-c1cd-7f2a063fb51c"
      },
      "execution_count": 5,
      "outputs": [
        {
          "output_type": "stream",
          "name": "stdout",
          "text": [
            "20\n"
          ]
        }
      ]
    },
    {
      "cell_type": "code",
      "source": [
        "#2. Create a Python function that accepts a string and returns the reverse of that string.\n",
        "\n",
        "def reverse_string(string):\n",
        "    return string[::-1]\n",
        "\n",
        "# Example usage\n",
        "text = \"Hello, World!\"\n",
        "reversed_text = reverse_string(text)\n",
        "print(reversed_text)  # Output: \"!dlroW ,olleH\""
      ],
      "metadata": {
        "colab": {
          "base_uri": "https://localhost:8080/"
        },
        "id": "HZBd56G-3egC",
        "outputId": "27fed177-52d3-4237-b56d-01bc292d51f3"
      },
      "execution_count": 6,
      "outputs": [
        {
          "output_type": "stream",
          "name": "stdout",
          "text": [
            "!dlroW ,olleH\n"
          ]
        }
      ]
    },
    {
      "cell_type": "code",
      "source": [
        "#3. Implement a Python function that takes a list of integers and returns a new list containing the squares of each number.\n",
        "\n",
        "def square_numbers(numbers):\n",
        "    return [x**2 for x in numbers]\n",
        "\n",
        "# Example usage\n",
        "nums = [1, 2, 3, 4, 5]\n",
        "squared_nums = square_numbers(nums)\n",
        "print(squared_nums)"
      ],
      "metadata": {
        "colab": {
          "base_uri": "https://localhost:8080/"
        },
        "id": "CJxK1hUJ3-U7",
        "outputId": "d88a5a8c-8c42-44f8-d374-e007be329fa8"
      },
      "execution_count": 7,
      "outputs": [
        {
          "output_type": "stream",
          "name": "stdout",
          "text": [
            "[1, 4, 9, 16, 25]\n"
          ]
        }
      ]
    },
    {
      "cell_type": "code",
      "source": [
        "# 4 Write a Python function that checks if a given number is prime or not from 1 to 200\n",
        "def is_prime(n):\n",
        "    if n < 2:\n",
        "        return False\n",
        "    for i in range(2, int(n ** 0.5) + 1):\n",
        "        if n % i == 0:\n",
        "            return False\n",
        "    return True\n",
        "\n",
        "# Checking prime numbers from 1 to 200\n",
        "primes = [num for num in range(1, 201) if is_prime(num)]\n",
        "print(primes)\n"
      ],
      "metadata": {
        "colab": {
          "base_uri": "https://localhost:8080/"
        },
        "id": "BnwNbWqy4Omr",
        "outputId": "8cf0d66d-e925-413b-ec46-7ff146de109a"
      },
      "execution_count": 15,
      "outputs": [
        {
          "output_type": "stream",
          "name": "stdout",
          "text": [
            "[2, 3, 5, 7, 11, 13, 17, 19, 23, 29, 31, 37, 41, 43, 47, 53, 59, 61, 67, 71, 73, 79, 83, 89, 97, 101, 103, 107, 109, 113, 127, 131, 137, 139, 149, 151, 157, 163, 167, 173, 179, 181, 191, 193, 197, 199]\n"
          ]
        }
      ]
    },
    {
      "cell_type": "code",
      "source": [
        "#5.  Create an iterator class in Python that generates the Fibonacci sequence up to a specified number of terms.\n",
        "\n",
        "class FibonacciIterator:\n",
        "    def __init__(self, n_terms):\n",
        "        self.n_terms = n_terms\n",
        "        self.a, self.b = 0, 1\n",
        "        self.count = 0\n",
        "\n",
        "    def __iter__(self):\n",
        "        return self\n",
        "\n",
        "    def __next__(self):\n",
        "        if self.count >= self.n_terms:\n",
        "            raise StopIteration\n",
        "\n",
        "        if self.count == 0:\n",
        "            self.count += 1\n",
        "            return self.a\n",
        "\n",
        "        elif self.count == 1:\n",
        "            self.count += 1\n",
        "            return self.b\n",
        "\n",
        "\n",
        "        self.a, self.b = self.b, self.a + self.b\n",
        "        self.count += 1\n",
        "        return self.a\n",
        "\n",
        "\n",
        "fib_iter = FibonacciIterator(10)\n",
        "for num in fib_iter:\n",
        "    print(num, end=\" \")\n",
        "\n"
      ],
      "metadata": {
        "colab": {
          "base_uri": "https://localhost:8080/"
        },
        "id": "F47CZ3Fk4c31",
        "outputId": "9efeadb0-397b-4ca5-cc32-8ee7505327c0"
      },
      "execution_count": 18,
      "outputs": [
        {
          "output_type": "stream",
          "name": "stdout",
          "text": [
            "0 1 1 1 2 3 5 8 13 21 "
          ]
        }
      ]
    },
    {
      "cell_type": "markdown",
      "source": [],
      "metadata": {
        "id": "cWxdI05m2NEI"
      }
    },
    {
      "cell_type": "code",
      "source": [
        "#6. Write a generator function in Python that yields the powers of 2 up to a given exponent.\n",
        "\n",
        "def powers_of_two(max_exponent):\n",
        "    for exponent in range(max_exponent + 1):\n",
        "        yield 2 ** exponent\n",
        "\n",
        "\n",
        "for power in powers_of_two(5):\n",
        "    print(power, end=\" \")\n"
      ],
      "metadata": {
        "colab": {
          "base_uri": "https://localhost:8080/"
        },
        "id": "BBAqJjpL6VMr",
        "outputId": "e3981296-0945-44c9-c3c1-6e2e2aa7016d"
      },
      "execution_count": 19,
      "outputs": [
        {
          "output_type": "stream",
          "name": "stdout",
          "text": [
            "1 2 4 8 16 32 "
          ]
        }
      ]
    },
    {
      "cell_type": "code",
      "source": [
        "#7.  Implement a generator function that reads a file line by line and yields each line as a string\n",
        "def read_file_line_by_line(filename):\n",
        "    try:\n",
        "        with open(filename, 'r', encoding='utf-8', errors='ignore') as file:\n",
        "            for line in file:\n",
        "                yield line.strip()\n",
        "    except FileNotFoundError:\n",
        "        print(f\"Error: The file '{filename}' was not found.\")\n",
        "    except PermissionError:\n",
        "        print(f\"Error: Permission denied for file '{filename}'.\")\n",
        "    except Exception as e:\n",
        "        print(f\"An unexpected error occurred: {e}\")\n",
        "\n",
        "# Example usage\n",
        "file_path = \"sample.txt\"\n",
        "for line in read_file_line_by_line(file_path):\n",
        "    print(line)\n"
      ],
      "metadata": {
        "colab": {
          "base_uri": "https://localhost:8080/"
        },
        "id": "nzgfBk6j8Tgk",
        "outputId": "2abb8d2c-9be1-42a8-e8ae-dd22fa9699b3"
      },
      "execution_count": 39,
      "outputs": [
        {
          "output_type": "stream",
          "name": "stdout",
          "text": [
            "Error: The file 'sample.txt' was not found.\n"
          ]
        }
      ]
    },
    {
      "cell_type": "markdown",
      "source": [],
      "metadata": {
        "id": "tfCWhvptnPi7"
      }
    },
    {
      "cell_type": "code",
      "source": [
        "#8 Use a lambda function in Python to sort a list of tuples based on the second element of each tuple.\n",
        "\n",
        "# List of tuples\n",
        "data = [(1, 5), (3, 2), (4, 8), (2, 1)]\n",
        "\n",
        "# Sorting based on the second element of each tuple\n",
        "sorted_data = sorted(data, key=lambda x: x[1])\n",
        "\n",
        "print(sorted_data)\n"
      ],
      "metadata": {
        "colab": {
          "base_uri": "https://localhost:8080/"
        },
        "id": "l9Zg4mdB9B90",
        "outputId": "aa40ded0-ad61-4055-ebd3-bb879299d21f"
      },
      "execution_count": 41,
      "outputs": [
        {
          "output_type": "stream",
          "name": "stdout",
          "text": [
            "[(2, 1), (3, 2), (1, 5), (4, 8)]\n"
          ]
        }
      ]
    },
    {
      "cell_type": "code",
      "source": [
        "#9. Write a Python program that uses `map()` to convert a list of temperatures from Celsius to Fahrenheit\n",
        "# Celsius to Fahrenheit conversion formula: F = (C * 9/5) + 32\n",
        "celsius_temperatures = [0, 20, 30, 40, 100]\n",
        "\n",
        "\n",
        "fahrenheit_temperatures = list(map(lambda c: (c * 9/5) + 32, celsius_temperatures))\n",
        "\n",
        "print(fahrenheit_temperatures)\n"
      ],
      "metadata": {
        "colab": {
          "base_uri": "https://localhost:8080/"
        },
        "id": "Ayaygs3N9bpC",
        "outputId": "432b8bb6-ba2a-4c7f-d790-7a5797a5581f"
      },
      "execution_count": 42,
      "outputs": [
        {
          "output_type": "stream",
          "name": "stdout",
          "text": [
            "[32.0, 68.0, 86.0, 104.0, 212.0]\n"
          ]
        }
      ]
    },
    {
      "cell_type": "code",
      "source": [
        "#10 Create a Python program that uses `filter()` to remove all the vowels from a given string.\n",
        "\n",
        "# Using filter() to remove vowels\n",
        "remove_vowels = lambda s: \"\".join(filter(lambda char: char.lower() not in 'aeiou', s))\n",
        "\n",
        "# Input string\n",
        "input_string = \"Hello, World!\"\n",
        "\n",
        "\n",
        "result = remove_vowels(input_string)\n",
        "print(result)\n",
        "\n"
      ],
      "metadata": {
        "colab": {
          "base_uri": "https://localhost:8080/"
        },
        "id": "-ts5Upsp96gy",
        "outputId": "0272198b-1db3-419f-91ec-c31c9413ed6a"
      },
      "execution_count": 43,
      "outputs": [
        {
          "output_type": "stream",
          "name": "stdout",
          "text": [
            "Hll, Wrld!\n"
          ]
        }
      ]
    },
    {
      "cell_type": "code",
      "source": [
        "#11 Imagine an accounting routine used in a book shop. It works on a list with sublists, which look like this:\n",
        "\n",
        "# Given data\n",
        "orders = [\n",
        "    (34587, \"Learning Python, Mark Lutz\", 4, 40.95),\n",
        "    (98762, \"Programming Python, Mark Lutz\", 5, 56.80),\n",
        "    (77226, \"Head First Python, Paul Barry\", 3, 32.95),\n",
        "    (88112, \"Einführung in Python3, Bernd Klein\", 3, 24.99)\n",
        "]\n",
        "\n",
        "# Lambda function to compute the total price\n",
        "calculate_total = lambda order: (order[0], order[2] * order[3] if order[2] * order[3] >= 100 else order[2] * order[3] + 10)\n",
        "\n",
        "# Using map to apply the lambda function\n",
        "result = list(map(calculate_total, orders))\n",
        "\n",
        "# Printing the result\n",
        "print(result)\n"
      ],
      "metadata": {
        "colab": {
          "base_uri": "https://localhost:8080/"
        },
        "id": "9tYd5sMn-gel",
        "outputId": "a1968ecc-4e54-4378-c6b4-02553efb83a1"
      },
      "execution_count": 44,
      "outputs": [
        {
          "output_type": "stream",
          "name": "stdout",
          "text": [
            "[(34587, 163.8), (98762, 284.0), (77226, 108.85000000000001), (88112, 84.97)]\n"
          ]
        }
      ]
    }
  ]
}